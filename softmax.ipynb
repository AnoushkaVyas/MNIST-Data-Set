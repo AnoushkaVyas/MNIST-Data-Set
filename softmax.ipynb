{
 "cells": [
  {
   "cell_type": "code",
   "execution_count": 8,
   "metadata": {
    "scrolled": true
   },
   "outputs": [
    {
     "name": "stdout",
     "output_type": "stream",
     "text": [
      "(6000, 784) (1000, 784)\n",
      "(6000,) (1000,)\n"
     ]
    }
   ],
   "source": [
    "from __future__ import print_function\n",
    "\n",
    "import numpy as np\n",
    "import matplotlib.pyplot as plt\n",
    "\n",
    "def read_data(filename):\n",
    "    with open(filename, 'r') as f:\n",
    "        lines = f.readlines()\n",
    "    \n",
    "    num_points = len(lines)\n",
    "    dim_points = 28 * 28\n",
    "    data = np.empty((num_points, dim_points))\n",
    "    labels = np.empty(num_points)\n",
    "    \n",
    "    for ind, line in enumerate(lines):\n",
    "        num = line.split(',')\n",
    "        labels[ind] = int(num[0])\n",
    "        data[ind] = [ int(x) for x in num[1:] ]\n",
    "        \n",
    "    return (data, labels)\n",
    "\n",
    "train_data, train_labels = read_data(\"sample_train.csv\")\n",
    "test_data, test_labels = read_data(\"sample_test.csv\")\n",
    "print(train_data.shape, test_data.shape)\n",
    "print(train_labels.shape, test_labels.shape)"
   ]
  },
  {
   "cell_type": "code",
   "execution_count": 9,
   "metadata": {
    "collapsed": true
   },
   "outputs": [],
   "source": [
    "new_data = (train_data-np.mean(train_data,axis=0))/np.var(train_data)\n",
    "new_test= (test_data-np.mean(test_data,axis=0))/np.var(test_data)"
   ]
  },
  {
   "cell_type": "code",
   "execution_count": 10,
   "metadata": {
    "collapsed": true
   },
   "outputs": [],
   "source": [
    "y_enc = (np.arange(np.max(train_labels) + 1) == train_labels[:, None]).astype(float)"
   ]
  },
  {
   "cell_type": "code",
   "execution_count": 11,
   "metadata": {
    "collapsed": true
   },
   "outputs": [],
   "source": [
    "def expo(w):\n",
    "    class_prob=[]\n",
    "    E=np.sum(np.exp(np.matmul(w,new_data.T)),axis=0)\n",
    "    L=np.exp(np.matmul(w,new_data.T))\n",
    "    for i in range(10):\n",
    "        class_prob.append(((L[i,:]/E)-y_enc.T[i]).T @ new_data)\n",
    "    class_prob=np.array(class_prob)\n",
    "    return class_prob"
   ]
  },
  {
   "cell_type": "code",
   "execution_count": 12,
   "metadata": {
    "collapsed": true
   },
   "outputs": [],
   "source": [
    "def gd(n):\n",
    "    w=np.random.uniform(size=(10,784))\n",
    "    i=0\n",
    "    while i<=100:\n",
    "        w=w-n*expo(w)\n",
    "        i=i+1\n",
    "    return w"
   ]
  },
  {
   "cell_type": "code",
   "execution_count": 13,
   "metadata": {
    "collapsed": true
   },
   "outputs": [],
   "source": [
    "def checkprob(w):\n",
    "    E=np.sum(np.exp(np.matmul(w,new_test.T)),axis=0)\n",
    "    L=np.exp(np.matmul(w,new_test.T))\n",
    "    return np.argmax(L/E, axis=0)\n",
    "    "
   ]
  },
  {
   "cell_type": "code",
   "execution_count": 17,
   "metadata": {},
   "outputs": [
    {
     "name": "stdout",
     "output_type": "stream",
     "text": [
      "88.7\n"
     ]
    }
   ],
   "source": [
    "accuracy=0\n",
    "out=checkprob(gd(0.2))\n",
    "for i in range(1000):\n",
    "    if(out[i] == test_labels[i]):\n",
    "        accuracy=accuracy+1\n",
    "print(accuracy/10)"
   ]
  }
 ],
 "metadata": {
  "kernelspec": {
   "display_name": "Python 3",
   "language": "python",
   "name": "python3"
  },
  "language_info": {
   "codemirror_mode": {
    "name": "ipython",
    "version": 3
   },
   "file_extension": ".py",
   "mimetype": "text/x-python",
   "name": "python",
   "nbconvert_exporter": "python",
   "pygments_lexer": "ipython3",
   "version": "3.6.3"
  }
 },
 "nbformat": 4,
 "nbformat_minor": 2
}
